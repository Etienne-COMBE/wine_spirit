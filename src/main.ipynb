{
 "cells": [
  {
   "source": [
    "# Wine Spirit\n",
    "\n",
    "Studying wines for a company"
   ],
   "cell_type": "markdown",
   "metadata": {}
  },
  {
   "cell_type": "code",
   "execution_count": 144,
   "metadata": {},
   "outputs": [
    {
     "output_type": "stream",
     "name": "stdout",
     "text": [
      "The autoreload extension is already loaded. To reload it, use:\n  %reload_ext autoreload\n"
     ]
    }
   ],
   "source": [
    "%load_ext autoreload\n",
    "%autoreload 2\n",
    "\n",
    "import pandas as pd"
   ]
  },
  {
   "cell_type": "code",
   "execution_count": 145,
   "id": "09c6895a",
   "metadata": {},
   "outputs": [
    {
     "output_type": "stream",
     "name": "stderr",
     "text": [
      "C:\\Users\\simplon\\anaconda3\\lib\\site-packages\\openpyxl\\worksheet\\_reader.py:312: UserWarning: Unknown extension is not supported and will be removed\n  warn(msg)\n"
     ]
    }
   ],
   "source": [
    "erp_df = pd.read_excel(\"..\\data\\RAW\\erp.xlsx\")\n",
    "liaison_df = pd.read_excel(\"..\\data\\RAW\\liaison.xlsx\")\n",
    "web_df = pd.read_excel(\"..\\data\\RAW\\web.xlsx\")"
   ]
  },
  {
   "cell_type": "code",
   "execution_count": 146,
   "id": "e15c6848",
   "metadata": {},
   "outputs": [
    {
     "output_type": "stream",
     "name": "stdout",
     "text": [
      "825 825 1513\n"
     ]
    }
   ],
   "source": [
    "print(len(erp_df), len(liaison_df), len(web_df))"
   ]
  },
  {
   "cell_type": "code",
   "execution_count": 147,
   "metadata": {},
   "outputs": [
    {
     "output_type": "stream",
     "name": "stdout",
     "text": [
      "<class 'pandas.core.frame.DataFrame'>\nRangeIndex: 1513 entries, 0 to 1512\nData columns (total 28 columns):\n #   Column                 Non-Null Count  Dtype         \n---  ------                 --------------  -----         \n 0   sku                    1428 non-null   object        \n 1   virtual                1513 non-null   int64         \n 2   downloadable           1513 non-null   int64         \n 3   rating_count           1513 non-null   int64         \n 4   average_rating         1430 non-null   float64       \n 5   total_sales            1430 non-null   float64       \n 6   tax_status             716 non-null    object        \n 7   tax_class              0 non-null      float64       \n 8   post_author            1430 non-null   float64       \n 9   post_date              1430 non-null   datetime64[ns]\n 10  post_date_gmt          1430 non-null   datetime64[ns]\n 11  post_content           0 non-null      float64       \n 12  post_title             1430 non-null   object        \n 13  post_excerpt           716 non-null    object        \n 14  post_status            1430 non-null   object        \n 15  comment_status         1430 non-null   object        \n 16  ping_status            1430 non-null   object        \n 17  post_password          0 non-null      float64       \n 18  post_name              1430 non-null   object        \n 19  post_modified          1430 non-null   datetime64[ns]\n 20  post_modified_gmt      1430 non-null   datetime64[ns]\n 21  post_content_filtered  0 non-null      float64       \n 22  post_parent            1430 non-null   float64       \n 23  guid                   1430 non-null   object        \n 24  menu_order             1430 non-null   float64       \n 25  post_type              1430 non-null   object        \n 26  post_mime_type         714 non-null    object        \n 27  comment_count          1430 non-null   float64       \ndtypes: datetime64[ns](4), float64(10), int64(3), object(11)\nmemory usage: 331.1+ KB\n"
     ]
    }
   ],
   "source": [
    "web_df.info()"
   ]
  },
  {
   "cell_type": "code",
   "execution_count": 148,
   "id": "9fe352f1",
   "metadata": {
    "scrolled": true
   },
   "outputs": [
    {
     "output_type": "execute_result",
     "data": {
      "text/plain": [
       "       virtual  downloadable  rating_count  average_rating  total_sales  \\\n",
       "count   1513.0        1513.0        1513.0          1430.0  1430.000000   \n",
       "mean       0.0           0.0           0.0             0.0     4.006993   \n",
       "std        0.0           0.0           0.0             0.0     8.510559   \n",
       "min        0.0           0.0           0.0             0.0     0.000000   \n",
       "25%        0.0           0.0           0.0             0.0     0.000000   \n",
       "50%        0.0           0.0           0.0             0.0     1.000000   \n",
       "75%        0.0           0.0           0.0             0.0     4.000000   \n",
       "max        0.0           0.0           0.0             0.0    96.000000   \n",
       "\n",
       "       tax_class  post_author  post_content  post_password  \\\n",
       "count        0.0  1430.000000           0.0            0.0   \n",
       "mean         NaN     1.998601           NaN            NaN   \n",
       "std          NaN     0.037385           NaN            NaN   \n",
       "min          NaN     1.000000           NaN            NaN   \n",
       "25%          NaN     2.000000           NaN            NaN   \n",
       "50%          NaN     2.000000           NaN            NaN   \n",
       "75%          NaN     2.000000           NaN            NaN   \n",
       "max          NaN     2.000000           NaN            NaN   \n",
       "\n",
       "       post_content_filtered  post_parent  menu_order  comment_count  \n",
       "count                    0.0       1430.0      1430.0         1430.0  \n",
       "mean                     NaN          0.0         0.0            0.0  \n",
       "std                      NaN          0.0         0.0            0.0  \n",
       "min                      NaN          0.0         0.0            0.0  \n",
       "25%                      NaN          0.0         0.0            0.0  \n",
       "50%                      NaN          0.0         0.0            0.0  \n",
       "75%                      NaN          0.0         0.0            0.0  \n",
       "max                      NaN          0.0         0.0            0.0  "
      ],
      "text/html": "<div>\n<style scoped>\n    .dataframe tbody tr th:only-of-type {\n        vertical-align: middle;\n    }\n\n    .dataframe tbody tr th {\n        vertical-align: top;\n    }\n\n    .dataframe thead th {\n        text-align: right;\n    }\n</style>\n<table border=\"1\" class=\"dataframe\">\n  <thead>\n    <tr style=\"text-align: right;\">\n      <th></th>\n      <th>virtual</th>\n      <th>downloadable</th>\n      <th>rating_count</th>\n      <th>average_rating</th>\n      <th>total_sales</th>\n      <th>tax_class</th>\n      <th>post_author</th>\n      <th>post_content</th>\n      <th>post_password</th>\n      <th>post_content_filtered</th>\n      <th>post_parent</th>\n      <th>menu_order</th>\n      <th>comment_count</th>\n    </tr>\n  </thead>\n  <tbody>\n    <tr>\n      <th>count</th>\n      <td>1513.0</td>\n      <td>1513.0</td>\n      <td>1513.0</td>\n      <td>1430.0</td>\n      <td>1430.000000</td>\n      <td>0.0</td>\n      <td>1430.000000</td>\n      <td>0.0</td>\n      <td>0.0</td>\n      <td>0.0</td>\n      <td>1430.0</td>\n      <td>1430.0</td>\n      <td>1430.0</td>\n    </tr>\n    <tr>\n      <th>mean</th>\n      <td>0.0</td>\n      <td>0.0</td>\n      <td>0.0</td>\n      <td>0.0</td>\n      <td>4.006993</td>\n      <td>NaN</td>\n      <td>1.998601</td>\n      <td>NaN</td>\n      <td>NaN</td>\n      <td>NaN</td>\n      <td>0.0</td>\n      <td>0.0</td>\n      <td>0.0</td>\n    </tr>\n    <tr>\n      <th>std</th>\n      <td>0.0</td>\n      <td>0.0</td>\n      <td>0.0</td>\n      <td>0.0</td>\n      <td>8.510559</td>\n      <td>NaN</td>\n      <td>0.037385</td>\n      <td>NaN</td>\n      <td>NaN</td>\n      <td>NaN</td>\n      <td>0.0</td>\n      <td>0.0</td>\n      <td>0.0</td>\n    </tr>\n    <tr>\n      <th>min</th>\n      <td>0.0</td>\n      <td>0.0</td>\n      <td>0.0</td>\n      <td>0.0</td>\n      <td>0.000000</td>\n      <td>NaN</td>\n      <td>1.000000</td>\n      <td>NaN</td>\n      <td>NaN</td>\n      <td>NaN</td>\n      <td>0.0</td>\n      <td>0.0</td>\n      <td>0.0</td>\n    </tr>\n    <tr>\n      <th>25%</th>\n      <td>0.0</td>\n      <td>0.0</td>\n      <td>0.0</td>\n      <td>0.0</td>\n      <td>0.000000</td>\n      <td>NaN</td>\n      <td>2.000000</td>\n      <td>NaN</td>\n      <td>NaN</td>\n      <td>NaN</td>\n      <td>0.0</td>\n      <td>0.0</td>\n      <td>0.0</td>\n    </tr>\n    <tr>\n      <th>50%</th>\n      <td>0.0</td>\n      <td>0.0</td>\n      <td>0.0</td>\n      <td>0.0</td>\n      <td>1.000000</td>\n      <td>NaN</td>\n      <td>2.000000</td>\n      <td>NaN</td>\n      <td>NaN</td>\n      <td>NaN</td>\n      <td>0.0</td>\n      <td>0.0</td>\n      <td>0.0</td>\n    </tr>\n    <tr>\n      <th>75%</th>\n      <td>0.0</td>\n      <td>0.0</td>\n      <td>0.0</td>\n      <td>0.0</td>\n      <td>4.000000</td>\n      <td>NaN</td>\n      <td>2.000000</td>\n      <td>NaN</td>\n      <td>NaN</td>\n      <td>NaN</td>\n      <td>0.0</td>\n      <td>0.0</td>\n      <td>0.0</td>\n    </tr>\n    <tr>\n      <th>max</th>\n      <td>0.0</td>\n      <td>0.0</td>\n      <td>0.0</td>\n      <td>0.0</td>\n      <td>96.000000</td>\n      <td>NaN</td>\n      <td>2.000000</td>\n      <td>NaN</td>\n      <td>NaN</td>\n      <td>NaN</td>\n      <td>0.0</td>\n      <td>0.0</td>\n      <td>0.0</td>\n    </tr>\n  </tbody>\n</table>\n</div>"
     },
     "metadata": {},
     "execution_count": 148
    }
   ],
   "source": [
    "web_df.describe()"
   ]
  },
  {
   "cell_type": "code",
   "execution_count": 149,
   "id": "dfa0ab6f",
   "metadata": {},
   "outputs": [],
   "source": [
    "web_df_clean = web_df.dropna(axis=1, how = 'all')"
   ]
  },
  {
   "cell_type": "code",
   "execution_count": 150,
   "metadata": {},
   "outputs": [
    {
     "output_type": "execute_result",
     "data": {
      "text/plain": [
       "       virtual  downloadable  rating_count  average_rating  total_sales  \\\n",
       "count   1513.0        1513.0        1513.0          1430.0  1430.000000   \n",
       "mean       0.0           0.0           0.0             0.0     4.006993   \n",
       "std        0.0           0.0           0.0             0.0     8.510559   \n",
       "min        0.0           0.0           0.0             0.0     0.000000   \n",
       "25%        0.0           0.0           0.0             0.0     0.000000   \n",
       "50%        0.0           0.0           0.0             0.0     1.000000   \n",
       "75%        0.0           0.0           0.0             0.0     4.000000   \n",
       "max        0.0           0.0           0.0             0.0    96.000000   \n",
       "\n",
       "       post_author  post_parent  menu_order  comment_count  \n",
       "count  1430.000000       1430.0      1430.0         1430.0  \n",
       "mean      1.998601          0.0         0.0            0.0  \n",
       "std       0.037385          0.0         0.0            0.0  \n",
       "min       1.000000          0.0         0.0            0.0  \n",
       "25%       2.000000          0.0         0.0            0.0  \n",
       "50%       2.000000          0.0         0.0            0.0  \n",
       "75%       2.000000          0.0         0.0            0.0  \n",
       "max       2.000000          0.0         0.0            0.0  "
      ],
      "text/html": "<div>\n<style scoped>\n    .dataframe tbody tr th:only-of-type {\n        vertical-align: middle;\n    }\n\n    .dataframe tbody tr th {\n        vertical-align: top;\n    }\n\n    .dataframe thead th {\n        text-align: right;\n    }\n</style>\n<table border=\"1\" class=\"dataframe\">\n  <thead>\n    <tr style=\"text-align: right;\">\n      <th></th>\n      <th>virtual</th>\n      <th>downloadable</th>\n      <th>rating_count</th>\n      <th>average_rating</th>\n      <th>total_sales</th>\n      <th>post_author</th>\n      <th>post_parent</th>\n      <th>menu_order</th>\n      <th>comment_count</th>\n    </tr>\n  </thead>\n  <tbody>\n    <tr>\n      <th>count</th>\n      <td>1513.0</td>\n      <td>1513.0</td>\n      <td>1513.0</td>\n      <td>1430.0</td>\n      <td>1430.000000</td>\n      <td>1430.000000</td>\n      <td>1430.0</td>\n      <td>1430.0</td>\n      <td>1430.0</td>\n    </tr>\n    <tr>\n      <th>mean</th>\n      <td>0.0</td>\n      <td>0.0</td>\n      <td>0.0</td>\n      <td>0.0</td>\n      <td>4.006993</td>\n      <td>1.998601</td>\n      <td>0.0</td>\n      <td>0.0</td>\n      <td>0.0</td>\n    </tr>\n    <tr>\n      <th>std</th>\n      <td>0.0</td>\n      <td>0.0</td>\n      <td>0.0</td>\n      <td>0.0</td>\n      <td>8.510559</td>\n      <td>0.037385</td>\n      <td>0.0</td>\n      <td>0.0</td>\n      <td>0.0</td>\n    </tr>\n    <tr>\n      <th>min</th>\n      <td>0.0</td>\n      <td>0.0</td>\n      <td>0.0</td>\n      <td>0.0</td>\n      <td>0.000000</td>\n      <td>1.000000</td>\n      <td>0.0</td>\n      <td>0.0</td>\n      <td>0.0</td>\n    </tr>\n    <tr>\n      <th>25%</th>\n      <td>0.0</td>\n      <td>0.0</td>\n      <td>0.0</td>\n      <td>0.0</td>\n      <td>0.000000</td>\n      <td>2.000000</td>\n      <td>0.0</td>\n      <td>0.0</td>\n      <td>0.0</td>\n    </tr>\n    <tr>\n      <th>50%</th>\n      <td>0.0</td>\n      <td>0.0</td>\n      <td>0.0</td>\n      <td>0.0</td>\n      <td>1.000000</td>\n      <td>2.000000</td>\n      <td>0.0</td>\n      <td>0.0</td>\n      <td>0.0</td>\n    </tr>\n    <tr>\n      <th>75%</th>\n      <td>0.0</td>\n      <td>0.0</td>\n      <td>0.0</td>\n      <td>0.0</td>\n      <td>4.000000</td>\n      <td>2.000000</td>\n      <td>0.0</td>\n      <td>0.0</td>\n      <td>0.0</td>\n    </tr>\n    <tr>\n      <th>max</th>\n      <td>0.0</td>\n      <td>0.0</td>\n      <td>0.0</td>\n      <td>0.0</td>\n      <td>96.000000</td>\n      <td>2.000000</td>\n      <td>0.0</td>\n      <td>0.0</td>\n      <td>0.0</td>\n    </tr>\n  </tbody>\n</table>\n</div>"
     },
     "metadata": {},
     "execution_count": 150
    }
   ],
   "source": [
    "web_df_clean.describe()"
   ]
  },
  {
   "cell_type": "code",
   "execution_count": 151,
   "metadata": {},
   "outputs": [],
   "source": [
    "web_df_clean = web_df_clean.drop(columns=['virtual', 'downloadable', 'rating_count', 'average_rating', 'post_parent', 'menu_order', 'comment_count'])"
   ]
  },
  {
   "cell_type": "code",
   "execution_count": 152,
   "metadata": {},
   "outputs": [
    {
     "output_type": "stream",
     "name": "stdout",
     "text": [
      "<class 'pandas.core.frame.DataFrame'>\nRangeIndex: 1513 entries, 0 to 1512\nData columns (total 17 columns):\n #   Column             Non-Null Count  Dtype         \n---  ------             --------------  -----         \n 0   sku                1428 non-null   object        \n 1   total_sales        1430 non-null   float64       \n 2   tax_status         716 non-null    object        \n 3   post_author        1430 non-null   float64       \n 4   post_date          1430 non-null   datetime64[ns]\n 5   post_date_gmt      1430 non-null   datetime64[ns]\n 6   post_title         1430 non-null   object        \n 7   post_excerpt       716 non-null    object        \n 8   post_status        1430 non-null   object        \n 9   comment_status     1430 non-null   object        \n 10  ping_status        1430 non-null   object        \n 11  post_name          1430 non-null   object        \n 12  post_modified      1430 non-null   datetime64[ns]\n 13  post_modified_gmt  1430 non-null   datetime64[ns]\n 14  guid               1430 non-null   object        \n 15  post_type          1430 non-null   object        \n 16  post_mime_type     714 non-null    object        \ndtypes: datetime64[ns](4), float64(2), object(11)\nmemory usage: 201.1+ KB\n"
     ]
    }
   ],
   "source": [
    "web_df_clean.info()"
   ]
  },
  {
   "cell_type": "code",
   "execution_count": 153,
   "metadata": {},
   "outputs": [
    {
     "output_type": "execute_result",
     "data": {
      "text/plain": [
       "                      sku  total_sales tax_status  post_author  \\\n",
       "0     bon-cadeau-25-euros         10.0    taxable          1.0   \n",
       "1                   15298          6.0    taxable          2.0   \n",
       "2                   15296          0.0    taxable          2.0   \n",
       "3                   15300          0.0    taxable          2.0   \n",
       "4                   19814          3.0    taxable          2.0   \n",
       "...                   ...          ...        ...          ...   \n",
       "1508                16135          5.0        NaN          2.0   \n",
       "1509                15891          0.0        NaN          2.0   \n",
       "1510                15887          0.0        NaN          2.0   \n",
       "1511              13127-1          0.0        NaN          2.0   \n",
       "1512                16230          0.0        NaN          2.0   \n",
       "\n",
       "               post_date       post_date_gmt  \\\n",
       "0    2018-06-01 13:53:46 2018-06-01 11:53:46   \n",
       "1    2018-02-08 12:58:52 2018-02-08 11:58:52   \n",
       "2    2018-02-08 13:49:41 2018-02-08 12:49:41   \n",
       "3    2018-02-08 14:08:36 2018-02-08 13:08:36   \n",
       "4    2018-02-09 14:01:05 2018-02-09 13:01:05   \n",
       "...                  ...                 ...   \n",
       "1508 2020-04-25 13:22:38 2020-04-25 11:22:38   \n",
       "1509 2020-05-02 14:53:40 2020-05-02 12:53:40   \n",
       "1510 2020-05-02 15:00:54 2020-05-02 13:00:54   \n",
       "1511 2020-06-09 15:42:04 2020-06-09 13:42:04   \n",
       "1512 2020-07-20 11:00:00 2020-07-20 09:00:00   \n",
       "\n",
       "                                             post_title  \\\n",
       "0                                     Bon cadeau de 25€   \n",
       "1           Pierre Jean Villa Saint-Joseph Préface 2018   \n",
       "2       Pierre Jean Villa Saint-Joseph Rouge Tildé 2017   \n",
       "3     Pierre Jean Villa Crozes-Hermitage Accroche Co...   \n",
       "4     Pierre Jean Villa IGP Collines Rhodaniennes Ga...   \n",
       "...                                                 ...   \n",
       "1508   Mouthes Le Bihan Côtes de Duras L'Aimé Chai 2015   \n",
       "1509         Camin Larredya Jurançon Sec La Virada 2018   \n",
       "1510     Domaine Jamet Côte Rôtie Fructus Voluptas 2018   \n",
       "1511       Clos du Mont-Olivet Châteauneuf-du-Pape 2007   \n",
       "1512  Domaine Saint-Nicolas Vin de France Blanc Les ...   \n",
       "\n",
       "                                           post_excerpt post_status  \\\n",
       "0     <span style=\"color: #a85253;\"><strong>Parlons ...     publish   \n",
       "1     Il exhale un nez subtil, racé avec du poivre f...     publish   \n",
       "2     Les vieilles vignes lui apportent une rare pro...     publish   \n",
       "3     Dentelle de fruit de jeunes syrah, aux tanins ...     publish   \n",
       "4     Gamine représente tout le fruité et la gourman...     publish   \n",
       "...                                                 ...         ...   \n",
       "1508                                                NaN     publish   \n",
       "1509                                                NaN     publish   \n",
       "1510                                                NaN     publish   \n",
       "1511                                                NaN     publish   \n",
       "1512                                                NaN     publish   \n",
       "\n",
       "     comment_status ping_status  \\\n",
       "0            closed      closed   \n",
       "1            closed      closed   \n",
       "2            closed      closed   \n",
       "3            closed      closed   \n",
       "4            closed      closed   \n",
       "...             ...         ...   \n",
       "1508         closed      closed   \n",
       "1509         closed      closed   \n",
       "1510         closed      closed   \n",
       "1511         closed      closed   \n",
       "1512         closed      closed   \n",
       "\n",
       "                                              post_name       post_modified  \\\n",
       "0                                bon-cadeau-de-25-euros 2018-06-01 14:13:57   \n",
       "1           pierre-jean-villa-saint-joseph-preface-2018 2019-12-30 09:30:29   \n",
       "2             pierre-jean-villa-saint-joseph-tilde-2017 2019-12-21 09:00:17   \n",
       "3     pierre-jean-villa-croze-hermitage-accroche-coe... 2020-06-26 18:15:03   \n",
       "4                     pierre-jean-villa-igp-gamine-2018 2020-01-04 16:36:01   \n",
       "...                                                 ...                 ...   \n",
       "1508                    mouthes-le-bihan-aime-chai-2015 2020-08-26 17:35:03   \n",
       "1509         camin-larredya-jurancon-sec-la-virada-2018 2020-08-26 17:35:02   \n",
       "1510             jamet-cote-rotie-fructus-voluptas-2018 2020-08-14 18:15:03   \n",
       "1511     clos-du-mont-olivet-chateauneuf-du-pape-2007-2 2020-07-20 17:09:06   \n",
       "1512  domaine-saint-nicolas-fiefs-vendeens-blanc-les... 2020-08-13 10:45:03   \n",
       "\n",
       "       post_modified_gmt                                               guid  \\\n",
       "0    2018-06-01 12:13:57  https://www.wine-spirit.fr/?post_type=product&...   \n",
       "1    2019-12-30 08:30:29  https://www.wine-spirit.fr/?post_type=product&...   \n",
       "2    2019-12-21 08:00:17  https://www.wine-spirit.fr/?post_type=product&...   \n",
       "3    2020-06-26 16:15:03  https://www.wine-spirit.fr/?post_type=product&...   \n",
       "4    2020-01-04 15:36:01  https://www.wine-spirit.fr/?post_type=product&...   \n",
       "...                  ...                                                ...   \n",
       "1508 2020-08-26 15:35:03  https://www.wine-spirit.fr/wp-content/uploads/...   \n",
       "1509 2020-08-26 15:35:02  https://www.wine-spirit.fr/wp-content/uploads/...   \n",
       "1510 2020-08-14 16:15:03  https://www.wine-spirit.fr/wp-content/uploads/...   \n",
       "1511 2020-07-20 15:09:06  https://www.wine-spirit.fr/wp-content/uploads/...   \n",
       "1512 2020-08-13 08:45:03  https://www.wine-spirit.fr/wp-content/uploads/...   \n",
       "\n",
       "       post_type post_mime_type  \n",
       "0        product            NaN  \n",
       "1        product            NaN  \n",
       "2        product            NaN  \n",
       "3        product            NaN  \n",
       "4        product            NaN  \n",
       "...          ...            ...  \n",
       "1508  attachment     image/jpeg  \n",
       "1509  attachment     image/jpeg  \n",
       "1510  attachment     image/jpeg  \n",
       "1511  attachment     image/jpeg  \n",
       "1512  attachment     image/jpeg  \n",
       "\n",
       "[1433 rows x 17 columns]"
      ],
      "text/html": "<div>\n<style scoped>\n    .dataframe tbody tr th:only-of-type {\n        vertical-align: middle;\n    }\n\n    .dataframe tbody tr th {\n        vertical-align: top;\n    }\n\n    .dataframe thead th {\n        text-align: right;\n    }\n</style>\n<table border=\"1\" class=\"dataframe\">\n  <thead>\n    <tr style=\"text-align: right;\">\n      <th></th>\n      <th>sku</th>\n      <th>total_sales</th>\n      <th>tax_status</th>\n      <th>post_author</th>\n      <th>post_date</th>\n      <th>post_date_gmt</th>\n      <th>post_title</th>\n      <th>post_excerpt</th>\n      <th>post_status</th>\n      <th>comment_status</th>\n      <th>ping_status</th>\n      <th>post_name</th>\n      <th>post_modified</th>\n      <th>post_modified_gmt</th>\n      <th>guid</th>\n      <th>post_type</th>\n      <th>post_mime_type</th>\n    </tr>\n  </thead>\n  <tbody>\n    <tr>\n      <th>0</th>\n      <td>bon-cadeau-25-euros</td>\n      <td>10.0</td>\n      <td>taxable</td>\n      <td>1.0</td>\n      <td>2018-06-01 13:53:46</td>\n      <td>2018-06-01 11:53:46</td>\n      <td>Bon cadeau de 25€</td>\n      <td>&lt;span style=\"color: #a85253;\"&gt;&lt;strong&gt;Parlons ...</td>\n      <td>publish</td>\n      <td>closed</td>\n      <td>closed</td>\n      <td>bon-cadeau-de-25-euros</td>\n      <td>2018-06-01 14:13:57</td>\n      <td>2018-06-01 12:13:57</td>\n      <td>https://www.wine-spirit.fr/?post_type=product&amp;...</td>\n      <td>product</td>\n      <td>NaN</td>\n    </tr>\n    <tr>\n      <th>1</th>\n      <td>15298</td>\n      <td>6.0</td>\n      <td>taxable</td>\n      <td>2.0</td>\n      <td>2018-02-08 12:58:52</td>\n      <td>2018-02-08 11:58:52</td>\n      <td>Pierre Jean Villa Saint-Joseph Préface 2018</td>\n      <td>Il exhale un nez subtil, racé avec du poivre f...</td>\n      <td>publish</td>\n      <td>closed</td>\n      <td>closed</td>\n      <td>pierre-jean-villa-saint-joseph-preface-2018</td>\n      <td>2019-12-30 09:30:29</td>\n      <td>2019-12-30 08:30:29</td>\n      <td>https://www.wine-spirit.fr/?post_type=product&amp;...</td>\n      <td>product</td>\n      <td>NaN</td>\n    </tr>\n    <tr>\n      <th>2</th>\n      <td>15296</td>\n      <td>0.0</td>\n      <td>taxable</td>\n      <td>2.0</td>\n      <td>2018-02-08 13:49:41</td>\n      <td>2018-02-08 12:49:41</td>\n      <td>Pierre Jean Villa Saint-Joseph Rouge Tildé 2017</td>\n      <td>Les vieilles vignes lui apportent une rare pro...</td>\n      <td>publish</td>\n      <td>closed</td>\n      <td>closed</td>\n      <td>pierre-jean-villa-saint-joseph-tilde-2017</td>\n      <td>2019-12-21 09:00:17</td>\n      <td>2019-12-21 08:00:17</td>\n      <td>https://www.wine-spirit.fr/?post_type=product&amp;...</td>\n      <td>product</td>\n      <td>NaN</td>\n    </tr>\n    <tr>\n      <th>3</th>\n      <td>15300</td>\n      <td>0.0</td>\n      <td>taxable</td>\n      <td>2.0</td>\n      <td>2018-02-08 14:08:36</td>\n      <td>2018-02-08 13:08:36</td>\n      <td>Pierre Jean Villa Crozes-Hermitage Accroche Co...</td>\n      <td>Dentelle de fruit de jeunes syrah, aux tanins ...</td>\n      <td>publish</td>\n      <td>closed</td>\n      <td>closed</td>\n      <td>pierre-jean-villa-croze-hermitage-accroche-coe...</td>\n      <td>2020-06-26 18:15:03</td>\n      <td>2020-06-26 16:15:03</td>\n      <td>https://www.wine-spirit.fr/?post_type=product&amp;...</td>\n      <td>product</td>\n      <td>NaN</td>\n    </tr>\n    <tr>\n      <th>4</th>\n      <td>19814</td>\n      <td>3.0</td>\n      <td>taxable</td>\n      <td>2.0</td>\n      <td>2018-02-09 14:01:05</td>\n      <td>2018-02-09 13:01:05</td>\n      <td>Pierre Jean Villa IGP Collines Rhodaniennes Ga...</td>\n      <td>Gamine représente tout le fruité et la gourman...</td>\n      <td>publish</td>\n      <td>closed</td>\n      <td>closed</td>\n      <td>pierre-jean-villa-igp-gamine-2018</td>\n      <td>2020-01-04 16:36:01</td>\n      <td>2020-01-04 15:36:01</td>\n      <td>https://www.wine-spirit.fr/?post_type=product&amp;...</td>\n      <td>product</td>\n      <td>NaN</td>\n    </tr>\n    <tr>\n      <th>...</th>\n      <td>...</td>\n      <td>...</td>\n      <td>...</td>\n      <td>...</td>\n      <td>...</td>\n      <td>...</td>\n      <td>...</td>\n      <td>...</td>\n      <td>...</td>\n      <td>...</td>\n      <td>...</td>\n      <td>...</td>\n      <td>...</td>\n      <td>...</td>\n      <td>...</td>\n      <td>...</td>\n      <td>...</td>\n    </tr>\n    <tr>\n      <th>1508</th>\n      <td>16135</td>\n      <td>5.0</td>\n      <td>NaN</td>\n      <td>2.0</td>\n      <td>2020-04-25 13:22:38</td>\n      <td>2020-04-25 11:22:38</td>\n      <td>Mouthes Le Bihan Côtes de Duras L'Aimé Chai 2015</td>\n      <td>NaN</td>\n      <td>publish</td>\n      <td>closed</td>\n      <td>closed</td>\n      <td>mouthes-le-bihan-aime-chai-2015</td>\n      <td>2020-08-26 17:35:03</td>\n      <td>2020-08-26 15:35:03</td>\n      <td>https://www.wine-spirit.fr/wp-content/uploads/...</td>\n      <td>attachment</td>\n      <td>image/jpeg</td>\n    </tr>\n    <tr>\n      <th>1509</th>\n      <td>15891</td>\n      <td>0.0</td>\n      <td>NaN</td>\n      <td>2.0</td>\n      <td>2020-05-02 14:53:40</td>\n      <td>2020-05-02 12:53:40</td>\n      <td>Camin Larredya Jurançon Sec La Virada 2018</td>\n      <td>NaN</td>\n      <td>publish</td>\n      <td>closed</td>\n      <td>closed</td>\n      <td>camin-larredya-jurancon-sec-la-virada-2018</td>\n      <td>2020-08-26 17:35:02</td>\n      <td>2020-08-26 15:35:02</td>\n      <td>https://www.wine-spirit.fr/wp-content/uploads/...</td>\n      <td>attachment</td>\n      <td>image/jpeg</td>\n    </tr>\n    <tr>\n      <th>1510</th>\n      <td>15887</td>\n      <td>0.0</td>\n      <td>NaN</td>\n      <td>2.0</td>\n      <td>2020-05-02 15:00:54</td>\n      <td>2020-05-02 13:00:54</td>\n      <td>Domaine Jamet Côte Rôtie Fructus Voluptas 2018</td>\n      <td>NaN</td>\n      <td>publish</td>\n      <td>closed</td>\n      <td>closed</td>\n      <td>jamet-cote-rotie-fructus-voluptas-2018</td>\n      <td>2020-08-14 18:15:03</td>\n      <td>2020-08-14 16:15:03</td>\n      <td>https://www.wine-spirit.fr/wp-content/uploads/...</td>\n      <td>attachment</td>\n      <td>image/jpeg</td>\n    </tr>\n    <tr>\n      <th>1511</th>\n      <td>13127-1</td>\n      <td>0.0</td>\n      <td>NaN</td>\n      <td>2.0</td>\n      <td>2020-06-09 15:42:04</td>\n      <td>2020-06-09 13:42:04</td>\n      <td>Clos du Mont-Olivet Châteauneuf-du-Pape 2007</td>\n      <td>NaN</td>\n      <td>publish</td>\n      <td>closed</td>\n      <td>closed</td>\n      <td>clos-du-mont-olivet-chateauneuf-du-pape-2007-2</td>\n      <td>2020-07-20 17:09:06</td>\n      <td>2020-07-20 15:09:06</td>\n      <td>https://www.wine-spirit.fr/wp-content/uploads/...</td>\n      <td>attachment</td>\n      <td>image/jpeg</td>\n    </tr>\n    <tr>\n      <th>1512</th>\n      <td>16230</td>\n      <td>0.0</td>\n      <td>NaN</td>\n      <td>2.0</td>\n      <td>2020-07-20 11:00:00</td>\n      <td>2020-07-20 09:00:00</td>\n      <td>Domaine Saint-Nicolas Vin de France Blanc Les ...</td>\n      <td>NaN</td>\n      <td>publish</td>\n      <td>closed</td>\n      <td>closed</td>\n      <td>domaine-saint-nicolas-fiefs-vendeens-blanc-les...</td>\n      <td>2020-08-13 10:45:03</td>\n      <td>2020-08-13 08:45:03</td>\n      <td>https://www.wine-spirit.fr/wp-content/uploads/...</td>\n      <td>attachment</td>\n      <td>image/jpeg</td>\n    </tr>\n  </tbody>\n</table>\n<p>1433 rows × 17 columns</p>\n</div>"
     },
     "metadata": {},
     "execution_count": 153
    }
   ],
   "source": [
    "web_df_clean.groupby('sku').head()"
   ]
  },
  {
   "cell_type": "code",
   "execution_count": 154,
   "metadata": {},
   "outputs": [
    {
     "output_type": "execute_result",
     "data": {
      "text/plain": [
       "797     False\n",
       "1511    False\n",
       "0        True\n",
       "1209     True\n",
       "1         NaN\n",
       "        ...  \n",
       "1507      NaN\n",
       "1508      NaN\n",
       "1509      NaN\n",
       "1510      NaN\n",
       "1512      NaN\n",
       "Name: sku, Length: 1513, dtype: object"
      ]
     },
     "metadata": {},
     "execution_count": 154
    }
   ],
   "source": [
    "web_df_clean['sku'].str.contains(\"bon-cadeau-25-euros\").sort_values()"
   ]
  },
  {
   "cell_type": "code",
   "execution_count": 155,
   "metadata": {},
   "outputs": [
    {
     "output_type": "execute_result",
     "data": {
      "text/plain": [
       "                      sku  total_sales tax_status  post_author  \\\n",
       "0     bon-cadeau-25-euros         10.0    taxable          1.0   \n",
       "1209  bon-cadeau-25-euros         10.0        NaN          1.0   \n",
       "\n",
       "               post_date       post_date_gmt         post_title  \\\n",
       "0    2018-06-01 13:53:46 2018-06-01 11:53:46  Bon cadeau de 25€   \n",
       "1209 2018-06-01 13:53:46 2018-06-01 11:53:46  Bon cadeau de 25€   \n",
       "\n",
       "                                           post_excerpt post_status  \\\n",
       "0     <span style=\"color: #a85253;\"><strong>Parlons ...     publish   \n",
       "1209                                                NaN     publish   \n",
       "\n",
       "     comment_status ping_status               post_name       post_modified  \\\n",
       "0            closed      closed  bon-cadeau-de-25-euros 2018-06-01 14:13:57   \n",
       "1209         closed      closed  bon-cadeau-de-25-euros 2018-06-01 14:13:57   \n",
       "\n",
       "       post_modified_gmt                                               guid  \\\n",
       "0    2018-06-01 12:13:57  https://www.wine-spirit.fr/?post_type=product&...   \n",
       "1209 2018-06-01 12:13:57  https://www.wine-spirit.fr/wp-content/uploads/...   \n",
       "\n",
       "       post_type post_mime_type  \n",
       "0        product            NaN  \n",
       "1209  attachment     image/jpeg  "
      ],
      "text/html": "<div>\n<style scoped>\n    .dataframe tbody tr th:only-of-type {\n        vertical-align: middle;\n    }\n\n    .dataframe tbody tr th {\n        vertical-align: top;\n    }\n\n    .dataframe thead th {\n        text-align: right;\n    }\n</style>\n<table border=\"1\" class=\"dataframe\">\n  <thead>\n    <tr style=\"text-align: right;\">\n      <th></th>\n      <th>sku</th>\n      <th>total_sales</th>\n      <th>tax_status</th>\n      <th>post_author</th>\n      <th>post_date</th>\n      <th>post_date_gmt</th>\n      <th>post_title</th>\n      <th>post_excerpt</th>\n      <th>post_status</th>\n      <th>comment_status</th>\n      <th>ping_status</th>\n      <th>post_name</th>\n      <th>post_modified</th>\n      <th>post_modified_gmt</th>\n      <th>guid</th>\n      <th>post_type</th>\n      <th>post_mime_type</th>\n    </tr>\n  </thead>\n  <tbody>\n    <tr>\n      <th>0</th>\n      <td>bon-cadeau-25-euros</td>\n      <td>10.0</td>\n      <td>taxable</td>\n      <td>1.0</td>\n      <td>2018-06-01 13:53:46</td>\n      <td>2018-06-01 11:53:46</td>\n      <td>Bon cadeau de 25€</td>\n      <td>&lt;span style=\"color: #a85253;\"&gt;&lt;strong&gt;Parlons ...</td>\n      <td>publish</td>\n      <td>closed</td>\n      <td>closed</td>\n      <td>bon-cadeau-de-25-euros</td>\n      <td>2018-06-01 14:13:57</td>\n      <td>2018-06-01 12:13:57</td>\n      <td>https://www.wine-spirit.fr/?post_type=product&amp;...</td>\n      <td>product</td>\n      <td>NaN</td>\n    </tr>\n    <tr>\n      <th>1209</th>\n      <td>bon-cadeau-25-euros</td>\n      <td>10.0</td>\n      <td>NaN</td>\n      <td>1.0</td>\n      <td>2018-06-01 13:53:46</td>\n      <td>2018-06-01 11:53:46</td>\n      <td>Bon cadeau de 25€</td>\n      <td>NaN</td>\n      <td>publish</td>\n      <td>closed</td>\n      <td>closed</td>\n      <td>bon-cadeau-de-25-euros</td>\n      <td>2018-06-01 14:13:57</td>\n      <td>2018-06-01 12:13:57</td>\n      <td>https://www.wine-spirit.fr/wp-content/uploads/...</td>\n      <td>attachment</td>\n      <td>image/jpeg</td>\n    </tr>\n  </tbody>\n</table>\n</div>"
     },
     "metadata": {},
     "execution_count": 155
    }
   ],
   "source": [
    "\n",
    "pd.DataFrame((web_df_clean.iloc[0], web_df_clean.iloc[1209]))"
   ]
  },
  {
   "cell_type": "code",
   "execution_count": 156,
   "metadata": {},
   "outputs": [],
   "source": [
    "web_clean = web_df_clean.drop_duplicates(subset='sku')"
   ]
  },
  {
   "cell_type": "code",
   "execution_count": 157,
   "id": "94d6209a",
   "metadata": {},
   "outputs": [
    {
     "output_type": "execute_result",
     "data": {
      "text/plain": [
       "     product_id  onsale_web  price  stock_quantity stock_status   id_web\n",
       "0          3847           1   24.2               0   outofstock    15298\n",
       "1          3849           1   34.3               0   outofstock    15296\n",
       "2          3850           1   20.8               0   outofstock    15300\n",
       "3          4032           1   14.1               0   outofstock    19814\n",
       "4          4039           1   46.0               0   outofstock    19815\n",
       "..          ...         ...    ...             ...          ...      ...\n",
       "820        7203           0   45.0              30      instock      NaN\n",
       "821        7204           0   45.0               9      instock      NaN\n",
       "822        7247           1   54.8              23      instock  13127-1\n",
       "823        7329           0   26.5              14      instock  14680-1\n",
       "824        7338           1   16.3              45      instock    16230\n",
       "\n",
       "[825 rows x 6 columns]"
      ],
      "text/html": "<div>\n<style scoped>\n    .dataframe tbody tr th:only-of-type {\n        vertical-align: middle;\n    }\n\n    .dataframe tbody tr th {\n        vertical-align: top;\n    }\n\n    .dataframe thead th {\n        text-align: right;\n    }\n</style>\n<table border=\"1\" class=\"dataframe\">\n  <thead>\n    <tr style=\"text-align: right;\">\n      <th></th>\n      <th>product_id</th>\n      <th>onsale_web</th>\n      <th>price</th>\n      <th>stock_quantity</th>\n      <th>stock_status</th>\n      <th>id_web</th>\n    </tr>\n  </thead>\n  <tbody>\n    <tr>\n      <th>0</th>\n      <td>3847</td>\n      <td>1</td>\n      <td>24.2</td>\n      <td>0</td>\n      <td>outofstock</td>\n      <td>15298</td>\n    </tr>\n    <tr>\n      <th>1</th>\n      <td>3849</td>\n      <td>1</td>\n      <td>34.3</td>\n      <td>0</td>\n      <td>outofstock</td>\n      <td>15296</td>\n    </tr>\n    <tr>\n      <th>2</th>\n      <td>3850</td>\n      <td>1</td>\n      <td>20.8</td>\n      <td>0</td>\n      <td>outofstock</td>\n      <td>15300</td>\n    </tr>\n    <tr>\n      <th>3</th>\n      <td>4032</td>\n      <td>1</td>\n      <td>14.1</td>\n      <td>0</td>\n      <td>outofstock</td>\n      <td>19814</td>\n    </tr>\n    <tr>\n      <th>4</th>\n      <td>4039</td>\n      <td>1</td>\n      <td>46.0</td>\n      <td>0</td>\n      <td>outofstock</td>\n      <td>19815</td>\n    </tr>\n    <tr>\n      <th>...</th>\n      <td>...</td>\n      <td>...</td>\n      <td>...</td>\n      <td>...</td>\n      <td>...</td>\n      <td>...</td>\n    </tr>\n    <tr>\n      <th>820</th>\n      <td>7203</td>\n      <td>0</td>\n      <td>45.0</td>\n      <td>30</td>\n      <td>instock</td>\n      <td>NaN</td>\n    </tr>\n    <tr>\n      <th>821</th>\n      <td>7204</td>\n      <td>0</td>\n      <td>45.0</td>\n      <td>9</td>\n      <td>instock</td>\n      <td>NaN</td>\n    </tr>\n    <tr>\n      <th>822</th>\n      <td>7247</td>\n      <td>1</td>\n      <td>54.8</td>\n      <td>23</td>\n      <td>instock</td>\n      <td>13127-1</td>\n    </tr>\n    <tr>\n      <th>823</th>\n      <td>7329</td>\n      <td>0</td>\n      <td>26.5</td>\n      <td>14</td>\n      <td>instock</td>\n      <td>14680-1</td>\n    </tr>\n    <tr>\n      <th>824</th>\n      <td>7338</td>\n      <td>1</td>\n      <td>16.3</td>\n      <td>45</td>\n      <td>instock</td>\n      <td>16230</td>\n    </tr>\n  </tbody>\n</table>\n<p>825 rows × 6 columns</p>\n</div>"
     },
     "metadata": {},
     "execution_count": 157
    }
   ],
   "source": [
    "fusion_1 = erp_df.merge(liaison_df, on='product_id')\n",
    "fusion_1"
   ]
  },
  {
   "cell_type": "code",
   "execution_count": 158,
   "id": "0b4dc9fc",
   "metadata": {},
   "outputs": [
    {
     "output_type": "execute_result",
     "data": {
      "text/plain": [
       "805"
      ]
     },
     "metadata": {},
     "execution_count": 158
    }
   ],
   "source": [
    "fusion = fusion_1.merge(web_clean, left_on = ('id_web'), right_on = ('sku'))\n",
    "len(fusion)"
   ]
  },
  {
   "cell_type": "code",
   "execution_count": 159,
   "metadata": {},
   "outputs": [
    {
     "output_type": "stream",
     "name": "stdout",
     "text": [
      "<class 'pandas.core.frame.DataFrame'>\nInt64Index: 805 entries, 0 to 804\nData columns (total 23 columns):\n #   Column             Non-Null Count  Dtype         \n---  ------             --------------  -----         \n 0   product_id         805 non-null    int64         \n 1   onsale_web         805 non-null    int64         \n 2   price              805 non-null    float64       \n 3   stock_quantity     805 non-null    int64         \n 4   stock_status       805 non-null    object        \n 5   id_web             714 non-null    object        \n 6   sku                714 non-null    object        \n 7   total_sales        714 non-null    float64       \n 8   tax_status         714 non-null    object        \n 9   post_author        714 non-null    float64       \n 10  post_date          714 non-null    datetime64[ns]\n 11  post_date_gmt      714 non-null    datetime64[ns]\n 12  post_title         714 non-null    object        \n 13  post_excerpt       714 non-null    object        \n 14  post_status        714 non-null    object        \n 15  comment_status     714 non-null    object        \n 16  ping_status        714 non-null    object        \n 17  post_name          714 non-null    object        \n 18  post_modified      714 non-null    datetime64[ns]\n 19  post_modified_gmt  714 non-null    datetime64[ns]\n 20  guid               714 non-null    object        \n 21  post_type          714 non-null    object        \n 22  post_mime_type     0 non-null      object        \ndtypes: datetime64[ns](4), float64(3), int64(3), object(13)\nmemory usage: 150.9+ KB\n"
     ]
    }
   ],
   "source": [
    "fusion.info()"
   ]
  }
 ],
 "metadata": {
  "kernelspec": {
   "name": "python3",
   "display_name": "Python 3.8.8 64-bit (conda)"
  },
  "language_info": {
   "codemirror_mode": {
    "name": "ipython",
    "version": 3
   },
   "file_extension": ".py",
   "mimetype": "text/x-python",
   "name": "python",
   "nbconvert_exporter": "python",
   "pygments_lexer": "ipython3",
   "version": "3.8.8"
  },
  "interpreter": {
   "hash": "cdf6b95d8a69ae5d0aceb0258d4c6061385257282a5085a53ba3efbdd401e145"
  }
 },
 "nbformat": 4,
 "nbformat_minor": 5
}